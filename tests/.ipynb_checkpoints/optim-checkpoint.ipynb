{
 "cells": [
  {
   "cell_type": "markdown",
   "metadata": {},
   "source": [
    "The rate scheduler minimizes the following objective function ::\n",
    "\n",
    "$ \\text{Max} \n",
    "       \\Bigg[ \n",
    "       \\bigg( \\displaystyle\\sum_{i}^{N} \\sum_{p}^{P} S_{i, p} \\cdot C_{p} \\bigg)  - \n",
    "       \\bigg( \\displaystyle\\sum_{i}^{N} \\sum_{p}^{P} S_{i, p} \\cdot R_{i} \\bigg)\n",
    "       \\Bigg]$\n",
    "\n",
    "Subject To ::\n",
    "\n",
    "- $\\bigg[ \\displaystyle\\sum_{i}^{N} \\bigg( S_{i, p}     \\bigg)= H_{p} \\bigg]$ for $p$ in $P$\n",
    "- $\\bigg[ \\displaystyle\\sum_{p}^{P} \\bigg( S_{i, p} > 0 \\bigg) <= 1 \\bigg]$ for $i$ in $N$\n",
    "- $\\bigg[ \\displaystyle\\sum_{p}^{P} \\bigg( S_{i, p} > 0 \\bigg) = M_{i} \\bigg]$ for $i$ in $N$\n",
    "\n",
    "Where ::\n",
    "- ``S`` is the N by P matrix of hours for each person and position\n",
    "- ``C`` is the P-length vector of rates for each position\n",
    "- ``R`` is the N-length vector of rates for each person\n",
    "- ``H`` is the P-length vector of hours for each position\n",
    "- ``A`` is the N-length vector of available hours for each person\n",
    "- ``M`` is the N-length vector of minimum hours for each person"
   ]
  },
  {
   "cell_type": "markdown",
   "metadata": {},
   "source": [
    "**`S = `**\n",
    "\n",
    "|name|position1|position2|position3|...|\n",
    "|-|-|-|-|-|\n",
    "|John Doe|0|0|400|...|\n",
    "|Jane Roe|200|0|0|...|\n",
    "|...|...|...|...|...|\n",
    "\n",
    "**`C = `**\n",
    "\n",
    "|category|rate|\n",
    "|-|-|\n",
    "|category1|\\$ 40.00|\n",
    "|category2|\\$ 50.00|\n",
    "|...|...|\n",
    "\n",
    "**`R = `**\n",
    "\n",
    "|name|rate|\n",
    "|-|-|\n",
    "|John Doe|\\$ 34.22|\n",
    "|Jane Roe|\\$ 45.72|\n",
    "|...|...|\n",
    "\n",
    "**`H = `**\n",
    "\n",
    "|category|hours|\n",
    "|-|-|\n",
    "|category1|1,000|\n",
    "|category2|2,500|\n",
    "|...|...|\n",
    "\n",
    "**`A = `**\n",
    "\n",
    "|name|available_hours|\n",
    "|-|-|\n",
    "|John Doe|500|\n",
    "|Jane Roe|1200|\n",
    "|...|...|\n",
    "\n",
    "**`M = `**\n",
    "\n",
    "|name|min_hours|\n",
    "|-|-|\n",
    "|John Doe|0|\n",
    "|Jane Roe|500|\n",
    "|...|...|"
   ]
  },
  {
   "cell_type": "code",
   "execution_count": 32,
   "metadata": {},
   "outputs": [],
   "source": [
    "import faker\n",
    "import numpy as np\n",
    "import pandas as pd"
   ]
  },
  {
   "cell_type": "code",
   "execution_count": 33,
   "metadata": {},
   "outputs": [],
   "source": [
    "salary_by_level = {\n",
    "\n",
    "    'B1': (40000, 55000),\n",
    "    'B2': (45000, 70000),\n",
    "    'B3': (65000, 78000),\n",
    "    'C1': (70000, 85000),\n",
    "    'C2': (80000, 92000),\n",
    "    'C3': (88000, 101000),\n",
    "    'D1': (99000, 110000),\n",
    "    'D2': (90000, 130000),\n",
    "    'D3': (115000, 140000),\n",
    "    'D4': (150000, 190000),\n",
    "    'D5': (165000, 210000),\n",
    "\n",
    "}\n",
    "\n",
    "positions_and_hours = {\n",
    "\n",
    "    'developer': 1500,\n",
    "    'business manager': 2500,\n",
    "    'program analyst': 2500,\n",
    "    'senior developer': 1500,\n",
    "    'senior program lead': 500,\n",
    "    'tester': 1200,\n",
    "    'junior data analyst': 1000,\n",
    "    'project manager': 500,\n",
    "\n",
    "}\n",
    "\n",
    "positions_qual_by_level = {\n",
    "    \n",
    "    'developer': ('C2', 'D2'),\n",
    "    'business manager': ('D1', 'D3'),\n",
    "    'program analyst': ('B3', 'C3'),\n",
    "    'senior developer': ('C2', 'D2'),\n",
    "    'senior program lead':  ('C3', 'D2'),\n",
    "    'tester': ('B3', 'C3'),\n",
    "    'junior data analyst': ('B1', 'C2'),\n",
    "    'project manager': ('D3', 'D5'),\n",
    "    \n",
    "}\n",
    "\n",
    "positions_salary = {\n",
    "    \n",
    "    'developer': 150000,\n",
    "    'business manager': 150000,\n",
    "    'program analyst': 95000,\n",
    "    'senior developer': 120000,\n",
    "    'senior program lead':  120000,\n",
    "    'tester': 95000,\n",
    "    'junior data analyst': 80000,\n",
    "    'project manager': 220000,\n",
    "    \n",
    "}\n",
    "\n",
    "level_distribution = [\n",
    "    \n",
    "    0.150, 0.125, 0.125,\n",
    "    0.115, 0.115, 0.115,\n",
    "    0.025, 0.055, 0.050,\n",
    "    0.100, 0.025,\n",
    "]"
   ]
  },
  {
   "cell_type": "code",
   "execution_count": 34,
   "metadata": {},
   "outputs": [
    {
     "name": "stdout",
     "output_type": "stream",
     "text": [
      "1.0\n",
      "11\n",
      "11\n"
     ]
    }
   ],
   "source": [
    "print(sum(level_distribution))\n",
    "print(len(level_distribution))\n",
    "print(len(salary_by_level))"
   ]
  },
  {
   "cell_type": "code",
   "execution_count": 35,
   "metadata": {},
   "outputs": [],
   "source": [
    "n = 30\n",
    "fake = faker.Faker()\n",
    "df = pd.DataFrame({'names': [fake.name() for _ in range(n)],\n",
    "                   'level': np.random.choice(list(salary_by_level.keys()),\n",
    "                                             size=n,\n",
    "                                             p=level_distribution)})\n",
    "df['salary'] = df.level.apply(lambda x: np.random.randint(salary_by_level[x][0],\n",
    "                                                          salary_by_level[x][1]))\n",
    "df['available_hours'] = np.random.choice([1500, 1200, 500],\n",
    "                                         size=n,\n",
    "                                         p=[0.5, 0.3, 0.2])"
   ]
  },
  {
   "cell_type": "code",
   "execution_count": 36,
   "metadata": {},
   "outputs": [],
   "source": [
    "df_positions = pd.Series(positions_and_hours, name='hours')\\\n",
    "                 .to_frame().reset_index()\\\n",
    "                 .rename(columns={'index': 'position'})\n",
    "df_positions['salary'] = df_positions['position'].map(positions_salary)\n",
    "df_positions = df_positions.set_index('position')"
   ]
  },
  {
   "cell_type": "code",
   "execution_count": 37,
   "metadata": {},
   "outputs": [],
   "source": [
    "levels = list(salary_by_level.keys())\n",
    "df_quals = pd.DataFrame(index=df['names'],\n",
    "                        columns=list(positions_qual_by_level.keys()))\n",
    "\n",
    "for _, row in df.iterrows():\n",
    "    name, lvl = row['names'], row['level']\n",
    "    pos = [p for p, (lmin, lmax) in positions_qual_by_level.items()\n",
    "           if lvl in levels[levels.index(lmin):levels.index(lmax) + 1]]\n",
    "    df_quals.loc[name, pos] = np.random.choice([1, 0],\n",
    "                                               size=len(pos),\n",
    "                                               p=[0.85, 0.15])\n",
    "df_quals = df_quals.fillna(0)"
   ]
  },
  {
   "cell_type": "code",
   "execution_count": 38,
   "metadata": {},
   "outputs": [],
   "source": [
    "df = df.set_index('names')"
   ]
  },
  {
   "cell_type": "code",
   "execution_count": 39,
   "metadata": {},
   "outputs": [],
   "source": [
    "df.to_csv('roster.csv')"
   ]
  },
  {
   "cell_type": "code",
   "execution_count": 40,
   "metadata": {},
   "outputs": [],
   "source": [
    "df_positions.to_csv('position.csv')"
   ]
  },
  {
   "cell_type": "code",
   "execution_count": 41,
   "metadata": {},
   "outputs": [],
   "source": [
    "df_quals.to_csv('qualification.csv')"
   ]
  },
  {
   "cell_type": "markdown",
   "metadata": {},
   "source": [
    "### Optimize"
   ]
  },
  {
   "cell_type": "code",
   "execution_count": 12,
   "metadata": {},
   "outputs": [],
   "source": [
    "from pulp import (LpProblem,\n",
    "                  LpMinimize,\n",
    "                  LpMaximize,\n",
    "                  LpVariable,\n",
    "                  LpStatus,\n",
    "                  value as obj_value)"
   ]
  },
  {
   "cell_type": "code",
   "execution_count": 13,
   "metadata": {},
   "outputs": [],
   "source": [
    "C = df_positions['salary']\n",
    "H = df_positions['hours']\n",
    "R = df['salary']\n",
    "M = df['available_hours']"
   ]
  },
  {
   "cell_type": "code",
   "execution_count": 14,
   "metadata": {},
   "outputs": [
    {
     "data": {
      "text/plain": [
       "11200"
      ]
     },
     "execution_count": 14,
     "metadata": {},
     "output_type": "execute_result"
    }
   ],
   "source": [
    "H.sum()"
   ]
  },
  {
   "cell_type": "code",
   "execution_count": 15,
   "metadata": {},
   "outputs": [],
   "source": [
    "N = df['salary'].index.tolist()\n",
    "P = df_positions['salary'].index.tolist()"
   ]
  },
  {
   "cell_type": "code",
   "execution_count": 16,
   "metadata": {},
   "outputs": [],
   "source": [
    "S = LpVariable.dicts(\"hrs\", (df_quals.index.tolist(),\n",
    "                             df_quals.columns.tolist()),\n",
    "                     lowBound=0.0,\n",
    "                     upBound=2000.0)"
   ]
  },
  {
   "cell_type": "code",
   "execution_count": 17,
   "metadata": {},
   "outputs": [],
   "source": [
    "model = LpProblem(\"Best_Schedule\", LpMaximize)"
   ]
  },
  {
   "cell_type": "code",
   "execution_count": 18,
   "metadata": {},
   "outputs": [],
   "source": [
    "model += (sum([S[i][p] * C[p] for i in N for p in P]) - \n",
    "          sum([S[i][p] * R[i] for i in N for p in P])), \"objective\""
   ]
  },
  {
   "cell_type": "code",
   "execution_count": 19,
   "metadata": {},
   "outputs": [],
   "source": [
    "for i in N:\n",
    "    for p in P:\n",
    "        if df_quals.loc[i, p] == 0:\n",
    "            model += S[i][p] == df_quals.loc[i, p], f'meets_criteria_for_{p}_{i}'"
   ]
  },
  {
   "cell_type": "code",
   "execution_count": 20,
   "metadata": {},
   "outputs": [],
   "source": [
    "for p in P:\n",
    "    model += sum(S[i][p] for i in N) <= H[p], f\"positions_sum_to_hours_for_{p}\""
   ]
  },
  {
   "cell_type": "code",
   "execution_count": 21,
   "metadata": {},
   "outputs": [],
   "source": [
    "for i in N:\n",
    "    model += sum(S[i][p] for p in P) <= M[i], f\"must_meet_available_hours_for_{i}\""
   ]
  },
  {
   "cell_type": "code",
   "execution_count": 22,
   "metadata": {},
   "outputs": [],
   "source": [
    "for i in N:\n",
    "    model += sum(1 for p in P if S[i][p].positive()) <= 1, f\"only_one_{i}\""
   ]
  },
  {
   "cell_type": "code",
   "execution_count": 23,
   "metadata": {},
   "outputs": [
    {
     "data": {
      "text/plain": [
       "1"
      ]
     },
     "execution_count": 23,
     "metadata": {},
     "output_type": "execute_result"
    }
   ],
   "source": [
    "model.solve()"
   ]
  },
  {
   "cell_type": "code",
   "execution_count": 24,
   "metadata": {},
   "outputs": [
    {
     "name": "stdout",
     "output_type": "stream",
     "text": [
      "Status: Optimal\n"
     ]
    }
   ],
   "source": [
    "print(\"Status:\", LpStatus[model.status])"
   ]
  },
  {
   "cell_type": "code",
   "execution_count": 25,
   "metadata": {},
   "outputs": [],
   "source": [
    "df_res = pd.DataFrame({p: [S[i][p].value() for i in N] for p in P},\n",
    "                      index=N)"
   ]
  },
  {
   "cell_type": "code",
   "execution_count": 31,
   "metadata": {},
   "outputs": [
    {
     "data": {
      "text/plain": [
       "developer              1500.0\n",
       "business manager       2500.0\n",
       "program analyst        2500.0\n",
       "senior developer       1500.0\n",
       "senior program lead     500.0\n",
       "tester                 1200.0\n",
       "junior data analyst    1000.0\n",
       "project manager         500.0\n",
       "dtype: float64"
      ]
     },
     "execution_count": 31,
     "metadata": {},
     "output_type": "execute_result"
    }
   ],
   "source": [
    "df_res.sum()"
   ]
  },
  {
   "cell_type": "code",
   "execution_count": 27,
   "metadata": {},
   "outputs": [
    {
     "data": {
      "text/plain": [
       "441221700.0"
      ]
     },
     "execution_count": 27,
     "metadata": {},
     "output_type": "execute_result"
    }
   ],
   "source": [
    "obj_value(model.objective)"
   ]
  },
  {
   "cell_type": "code",
   "execution_count": 28,
   "metadata": {},
   "outputs": [
    {
     "data": {
      "text/plain": [
       "441221700.0"
      ]
     },
     "execution_count": 28,
     "metadata": {},
     "output_type": "execute_result"
    }
   ],
   "source": [
    "((df_res * df_positions['salary']) - (df_res.T * df['salary']).T ).sum().sum()"
   ]
  },
  {
   "cell_type": "markdown",
   "metadata": {},
   "source": [
    "Subject To ::\n",
    "\n",
    "- $\\bigg[ \\displaystyle\\sum_{i}^{N} \\bigg( S_{i, p}     \\bigg)= H_{p} \\bigg]$ for $p$ in $P$\n",
    "- $\\bigg[ \\displaystyle\\sum_{p}^{P} \\bigg( S_{i, p} > 0 \\bigg) <= 1 \\bigg]$ for $i$ in $N$\n",
    "- $\\bigg[ \\displaystyle\\sum_{p}^{P} \\bigg( S_{i, p} > 0 \\bigg) = M_{i} \\bigg]$ for $i$ in $N$"
   ]
  },
  {
   "cell_type": "markdown",
   "metadata": {},
   "source": [
    "\n",
    "$ \\text{Max} \n",
    "       \\Bigg[ \n",
    "       \\bigg( \\displaystyle\\sum_{i}^{N} \\sum_{p}^{P} S_{i, p} \\cdot C_{p} \\bigg)  - \n",
    "       \\bigg( \\displaystyle\\sum_{i}^{N} \\sum_{p}^{P} S_{i, p} \\cdot R_{i} \\bigg)\n",
    "       \\Bigg]$"
   ]
  },
  {
   "cell_type": "code",
   "execution_count": null,
   "metadata": {},
   "outputs": [],
   "source": []
  }
 ],
 "metadata": {
  "kernelspec": {
   "display_name": "Python 3",
   "language": "python",
   "name": "python3"
  },
  "language_info": {
   "codemirror_mode": {
    "name": "ipython",
    "version": 3
   },
   "file_extension": ".py",
   "mimetype": "text/x-python",
   "name": "python",
   "nbconvert_exporter": "python",
   "pygments_lexer": "ipython3",
   "version": "3.8.3"
  }
 },
 "nbformat": 4,
 "nbformat_minor": 4
}
